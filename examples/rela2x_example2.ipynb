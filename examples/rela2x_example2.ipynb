{
 "cells": [
  {
   "cell_type": "markdown",
   "metadata": {},
   "source": [
    "### Example 2 for the usage of Rela²x. \n",
    "### See README.md for more information.\n",
    "\n",
    "- Two ¹H nuclei.\n",
    "\n",
    "- Dipole-dipole coupling.\n",
    "\n",
    "- Rank $l = 2$."
   ]
  },
  {
   "cell_type": "markdown",
   "metadata": {},
   "source": [
    "Import Rela²x."
   ]
  },
  {
   "cell_type": "code",
   "execution_count": 1,
   "metadata": {},
   "outputs": [],
   "source": [
    "from rela2x import *"
   ]
  },
  {
   "cell_type": "markdown",
   "metadata": {},
   "source": [
    "Define the spin system."
   ]
  },
  {
   "cell_type": "code",
   "execution_count": 2,
   "metadata": {},
   "outputs": [],
   "source": [
    "spin_system = ['1H', '1H']"
   ]
  },
  {
   "cell_type": "markdown",
   "metadata": {},
   "source": [
    "Define the incoherent interactions."
   ]
  },
  {
   "cell_type": "code",
   "execution_count": 3,
   "metadata": {},
   "outputs": [],
   "source": [
    "dd_couplings = [[0, 1],\n",
    "                [0, 0]]\n",
    "intrs = {'DD': ('2', dd_couplings, [2])}"
   ]
  },
  {
   "cell_type": "markdown",
   "metadata": {},
   "source": [
    "Compute the relaxation superoperator in the direct product basis of spherical tensor operators and create a RelaxationSuperoperator object."
   ]
  },
  {
   "cell_type": "code",
   "execution_count": null,
   "metadata": {},
   "outputs": [],
   "source": [
    "R = R_object_in_T_basis(spin_system, intrs)"
   ]
  },
  {
   "cell_type": "markdown",
   "metadata": {},
   "source": [
    "Display $R$ and visualize."
   ]
  },
  {
   "cell_type": "code",
   "execution_count": null,
   "metadata": {},
   "outputs": [],
   "source": [
    "display(R.op)\n",
    "R.visualize(basis_symbols=R.basis_symbols)"
   ]
  },
  {
   "cell_type": "markdown",
   "metadata": {},
   "source": [
    "Check the auto-relaxation rate of $\\hat T_{10}^{(1)}$, and the cross-relaxation rate between operators $\\hat T_{10}^{(1)}$ and $\\hat T_{10}^{(2)}$"
   ]
  },
  {
   "cell_type": "code",
   "execution_count": null,
   "metadata": {},
   "outputs": [],
   "source": [
    "rate1 = R.rate('110')\n",
    "rate2 = R.rate('110', '210')\n",
    "\n",
    "display(rate1)\n",
    "display(rate2)"
   ]
  },
  {
   "cell_type": "markdown",
   "metadata": {},
   "source": [
    "Use isotropic rotational diffusion model."
   ]
  },
  {
   "cell_type": "code",
   "execution_count": null,
   "metadata": {},
   "outputs": [],
   "source": [
    "R.to_isotropic_rotational_diffusion()\n",
    "display(R.op)"
   ]
  },
  {
   "cell_type": "markdown",
   "metadata": {},
   "source": [
    "Check again the auto-relaxation rate of $\\hat T_{10}^{(1)}$, and the cross-relaxation rate between operators $\\hat T_{10}^{(1)}$ and $\\hat T_{10}^{(2)}$"
   ]
  },
  {
   "cell_type": "code",
   "execution_count": null,
   "metadata": {},
   "outputs": [],
   "source": [
    "rate1 = R.rate('110')\n",
    "rate2 = R.rate('110', '210')\n",
    "\n",
    "display(rate1)\n",
    "display(rate2)"
   ]
  },
  {
   "cell_type": "markdown",
   "metadata": {},
   "source": [
    "Compute the (Solomon) equations of motion and save in LaTeX format.\n",
    "\n",
    "(Remove the comment if you want to save the file)"
   ]
  },
  {
   "cell_type": "code",
   "execution_count": null,
   "metadata": {},
   "outputs": [],
   "source": [
    "eoms = equations_of_motion(R.op, R.basis_symbols, included_operators=[1, 2])\n",
    "display(eoms)\n",
    "# equations_of_motion_to_latex(eoms, 'dd_test')"
   ]
  },
  {
   "cell_type": "markdown",
   "metadata": {},
   "source": [
    "Do the same calculation but now using the quantum mechanical (Lindbladian) formalism of relaxation."
   ]
  },
  {
   "cell_type": "code",
   "execution_count": null,
   "metadata": {},
   "outputs": [],
   "source": [
    "# Set quantum mechanical/Lindbladian relaxation theory\n",
    "set_relaxation_theory('qm')\n",
    "\n",
    "# Compute the relaxation superoperator in the direct product basis\n",
    "R = R_object_in_T_basis(spin_system, intrs)\n",
    "\n",
    "# Display and visualize\n",
    "display(R.op)\n",
    "R.visualize(basis_symbols=R.basis_symbols)\n",
    "\n",
    "# Compute the equations of motion\n",
    "eoms = equations_of_motion(R.op, R.basis_symbols)\n",
    "display(eoms)\n",
    "# equations_of_motion_to_latex(eoms, 'dd_test')"
   ]
  }
 ],
 "metadata": {
  "kernelspec": {
   "display_name": "base",
   "language": "python",
   "name": "python3"
  },
  "language_info": {
   "codemirror_mode": {
    "name": "ipython",
    "version": 3
   },
   "file_extension": ".py",
   "mimetype": "text/x-python",
   "name": "python",
   "nbconvert_exporter": "python",
   "pygments_lexer": "ipython3",
   "version": "3.11.5"
  }
 },
 "nbformat": 4,
 "nbformat_minor": 4
}
