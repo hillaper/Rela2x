{
 "cells": [
  {
   "cell_type": "markdown",
   "metadata": {},
   "source": [
    "### Example 3 for the usage of Rela²x.\n",
    "### See README.md for more information.\n",
    "\n",
    "- ¹H and ¹⁴N nuclei.\n",
    "\n",
    "- Dipole-dipole coupling between the spins, CSA and quadrupolar interactions on the ¹⁴N nucleus.\n",
    "\n",
    "- Ranks $l = 2$ for each interaction."
   ]
  },
  {
   "cell_type": "markdown",
   "metadata": {},
   "source": [
    "Import Rela²x."
   ]
  },
  {
   "cell_type": "code",
   "execution_count": 1,
   "metadata": {},
   "outputs": [],
   "source": [
    "from rela2x import *"
   ]
  },
  {
   "cell_type": "markdown",
   "metadata": {},
   "source": [
    "Define the spin system."
   ]
  },
  {
   "cell_type": "code",
   "execution_count": 2,
   "metadata": {},
   "outputs": [],
   "source": [
    "spin_system = ['1H', '14N']"
   ]
  },
  {
   "cell_type": "markdown",
   "metadata": {},
   "source": [
    "Define the incoherent interactions."
   ]
  },
  {
   "cell_type": "code",
   "execution_count": 3,
   "metadata": {},
   "outputs": [],
   "source": [
    "dd_couplings = [[0, 1],\n",
    "                [0, 0]]\n",
    "sh_interactions = [0, 1]\n",
    "q_interactions = [0, 1]\n",
    "\n",
    "intrs = {'CSA': ('1L', sh_interactions, [2]),\n",
    "         'Q':   ('1Q', q_interactions, [2]),\n",
    "         'DD':  ('2', dd_couplings, [2])}"
   ]
  },
  {
   "cell_type": "markdown",
   "metadata": {},
   "source": [
    "Compute the relaxation superoperator in the direct product basis of spherical tensor operators and create a RelaxationSuperoperator object.\n",
    "\n",
    "Use the second version of basis sorting."
   ]
  },
  {
   "cell_type": "code",
   "execution_count": null,
   "metadata": {},
   "outputs": [],
   "source": [
    "R = R_object_in_T_basis(spin_system, intrs, sorting='v2')"
   ]
  },
  {
   "cell_type": "markdown",
   "metadata": {},
   "source": [
    "Visualize $R$ with a bit smaller fontsize. \n",
    "\n",
    "The block-diagonal structure is clearly visible."
   ]
  },
  {
   "cell_type": "code",
   "execution_count": null,
   "metadata": {},
   "outputs": [],
   "source": [
    "R.visualize(basis_symbols=R.basis_symbols, fontsize=7)"
   ]
  },
  {
   "cell_type": "markdown",
   "metadata": {},
   "source": [
    "Check the auto-relaxation rate of $\\hat T_{1-1}^{(2)}$, and the cross-relaxation rate between operators $\\hat T_{1-1}^{(2)}$ and $\\hat T_{10}^{(1)} \\hat T_{1-1}^{(2)}$"
   ]
  },
  {
   "cell_type": "code",
   "execution_count": null,
   "metadata": {},
   "outputs": [],
   "source": [
    "rate1 = R.rate('21-1')\n",
    "rate2 = R.rate('21-1', '110*21-1')\n",
    "\n",
    "display(rate1)\n",
    "display(rate2)"
   ]
  },
  {
   "cell_type": "markdown",
   "metadata": {},
   "source": [
    "Check cross-relaxation cross-relaxation rate between operators $\\hat T_{1-1}^{(2)}$ and $\\hat T_{10}^{(1)} \\hat T_{2-1}^{(2)}$"
   ]
  },
  {
   "cell_type": "code",
   "execution_count": null,
   "metadata": {},
   "outputs": [],
   "source": [
    "rate = R.rate('21-1', '110*22-1')\n",
    "display(rate)"
   ]
  },
  {
   "cell_type": "markdown",
   "metadata": {},
   "source": [
    "Use isotropic rotational diffusion model in the fast-motion limit and neglect all cross-correlated couplings."
   ]
  },
  {
   "cell_type": "code",
   "execution_count": 8,
   "metadata": {},
   "outputs": [],
   "source": [
    "R.to_isotropic_rotational_diffusion(fast_motion_limit=True)\n",
    "R.neglect_cross_correlated_terms()"
   ]
  },
  {
   "cell_type": "code",
   "execution_count": null,
   "metadata": {},
   "outputs": [],
   "source": [
    "R.visualize(fontsize=7, basis_symbols=R.basis_symbols)"
   ]
  },
  {
   "cell_type": "markdown",
   "metadata": {},
   "source": [
    "Check again the auto-relaxation rate of $\\hat T_{1-1}^{(2)}$, and the cross-relaxation rate between operators $\\hat T_{1-1}^{(2)}$ and $\\hat T_{10}^{(1)} \\hat T_{1-1}^{(2)}$"
   ]
  },
  {
   "cell_type": "code",
   "execution_count": null,
   "metadata": {},
   "outputs": [],
   "source": [
    "rate1 = R.rate('21-1')\n",
    "rate2 = R.rate('21-1', '110*21-1')\n",
    "\n",
    "display(rate1)\n",
    "display(rate2)"
   ]
  },
  {
   "cell_type": "markdown",
   "metadata": {},
   "source": [
    "Filter out coherences other than 0"
   ]
  },
  {
   "cell_type": "code",
   "execution_count": 11,
   "metadata": {},
   "outputs": [],
   "source": [
    "R.filter('c', [0])"
   ]
  },
  {
   "cell_type": "code",
   "execution_count": null,
   "metadata": {},
   "outputs": [],
   "source": [
    "R.visualize(basis_symbols=R.basis_symbols)"
   ]
  }
 ],
 "metadata": {
  "kernelspec": {
   "display_name": "base",
   "language": "python",
   "name": "python3"
  },
  "language_info": {
   "codemirror_mode": {
    "name": "ipython",
    "version": 3
   },
   "file_extension": ".py",
   "mimetype": "text/x-python",
   "name": "python",
   "nbconvert_exporter": "python",
   "pygments_lexer": "ipython3",
   "version": "3.11.5"
  }
 },
 "nbformat": 4,
 "nbformat_minor": 2
}
