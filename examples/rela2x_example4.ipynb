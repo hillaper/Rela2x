{
 "cells": [
  {
   "cell_type": "markdown",
   "metadata": {},
   "source": [
    "### Example 4 for the usage of Rela²x.\n",
    "### See README.md for more information.\n",
    "\n",
    "- ¹H, ¹³C and ¹⁴N nuclei.\n",
    "\n",
    "- Dipole-dipole coupling between all of the spins, CSA interactions on the ¹³C and ¹⁴N nuclei, and quadrupolar interaction on the ¹⁴N.\n",
    "\n",
    "- Ranks $l = 2$ for all interactions."
   ]
  },
  {
   "cell_type": "markdown",
   "metadata": {},
   "source": [
    "Import Rela²x."
   ]
  },
  {
   "cell_type": "code",
   "execution_count": 1,
   "metadata": {},
   "outputs": [],
   "source": [
    "from rela2x import *"
   ]
  },
  {
   "cell_type": "markdown",
   "metadata": {},
   "source": [
    "Define the spin system."
   ]
  },
  {
   "cell_type": "code",
   "execution_count": 2,
   "metadata": {},
   "outputs": [],
   "source": [
    "spin_system = ['1H', '13C', '14N']"
   ]
  },
  {
   "cell_type": "markdown",
   "metadata": {},
   "source": [
    "Define the incoherent interactions."
   ]
  },
  {
   "cell_type": "code",
   "execution_count": 3,
   "metadata": {},
   "outputs": [],
   "source": [
    "dd_couplings = [[0, 1, 1],\n",
    "                [0, 0, 1],\n",
    "                [0, 0, 0]]\n",
    "sh_interactions = [0, 1, 1]\n",
    "q_interactions = [0, 0, 1]\n",
    "\n",
    "intrs = {'CSA': ('1L', sh_interactions, [2]),\n",
    "         'Q':   ('1Q', q_interactions, [2]),\n",
    "         'DD':  ('2', dd_couplings, [2])}"
   ]
  },
  {
   "cell_type": "markdown",
   "metadata": {},
   "source": [
    "Compute the relaxation superoperator in the direct product basis of spherical tensor operators and create a RelaxationSuperoperator object.\n",
    "\n",
    "Use the second version of basis sorting.\n",
    "\n",
    "**Note:** This can take a couple of minutes due to the large size of the system and the number of different cross terms present."
   ]
  },
  {
   "cell_type": "code",
   "execution_count": null,
   "metadata": {},
   "outputs": [],
   "source": [
    "R = R_object_in_T_basis(spin_system, intrs, sorting='v2')"
   ]
  },
  {
   "cell_type": "markdown",
   "metadata": {},
   "source": [
    "Visualize $R$.\n",
    "\n",
    "The block-diagonal structure where each block corresponds to different coherence order is clearly visible."
   ]
  },
  {
   "cell_type": "code",
   "execution_count": null,
   "metadata": {},
   "outputs": [],
   "source": [
    "R.visualize()"
   ]
  },
  {
   "cell_type": "markdown",
   "metadata": {},
   "source": [
    "Check the auto-relaxation rate of $\\hat T_{1-1}^{(1)}$, and the cross-relaxation rate between operators $\\hat T_{10}^{(1)}$ and $\\hat T_{10}^{(1)} \\hat T_{10}^{(2)}$"
   ]
  },
  {
   "cell_type": "code",
   "execution_count": null,
   "metadata": {},
   "outputs": [],
   "source": [
    "rate1 = R.rate('110')\n",
    "rate2 = R.rate('110', '110*210*310')\n",
    "\n",
    "display(rate1)\n",
    "display(rate2)"
   ]
  },
  {
   "cell_type": "markdown",
   "metadata": {},
   "source": [
    "Study the population block only."
   ]
  },
  {
   "cell_type": "code",
   "execution_count": 7,
   "metadata": {},
   "outputs": [],
   "source": [
    "R.filter('t', 0)"
   ]
  },
  {
   "cell_type": "code",
   "execution_count": null,
   "metadata": {},
   "outputs": [],
   "source": [
    "R.visualize(basis_symbols=R.basis_symbols)"
   ]
  },
  {
   "cell_type": "markdown",
   "metadata": {},
   "source": [
    "Compute the equations of motion in the population block and save in LaTeX format.\n",
    "\n",
    "(Remove the comment if you want to save the file)"
   ]
  },
  {
   "cell_type": "code",
   "execution_count": null,
   "metadata": {},
   "outputs": [],
   "source": [
    "# Compute the equations of motion\n",
    "eoms = equations_of_motion(R.op, R.basis_symbols)\n",
    "display(eoms)\n",
    "# equations_of_motion_to_latex(eoms, '3-spin_test')"
   ]
  }
 ],
 "metadata": {
  "kernelspec": {
   "display_name": "base",
   "language": "python",
   "name": "python3"
  },
  "language_info": {
   "codemirror_mode": {
    "name": "ipython",
    "version": 3
   },
   "file_extension": ".py",
   "mimetype": "text/x-python",
   "name": "python",
   "nbconvert_exporter": "python",
   "pygments_lexer": "ipython3",
   "version": "3.11.5"
  }
 },
 "nbformat": 4,
 "nbformat_minor": 2
}
